{
  "cells": [
    {
      "cell_type": "markdown",
      "source": [
        "## Import libraries"
      ],
      "metadata": {
        "id": "M8C5alWYEyBP"
      }
    },
    {
      "cell_type": "code",
      "execution_count": 1,
      "metadata": {
        "id": "Ag6KOLPNqUK6"
      },
      "outputs": [],
      "source": [
        "import tensorflow as tf\n",
        "from tensorflow import keras\n",
        "import os\n",
        "import numpy as np\n",
        "import pandas as pd\n",
        "import matplotlib.pyplot as plt"
      ]
    },
    {
      "cell_type": "markdown",
      "metadata": {
        "id": "r1pBOHvCqULA"
      },
      "source": [
        "### Install and login to W&B for tracking"
      ]
    },
    {
      "cell_type": "code",
      "execution_count": 2,
      "metadata": {
        "id": "EwKBzSuGqULC"
      },
      "outputs": [],
      "source": [
        "%%capture\n",
        "!pip install wandb"
      ]
    },
    {
      "cell_type": "code",
      "source": [
        "import wandb\n",
        "from wandb.keras import WandbCallback\n",
        "\n",
        "wandb.login()"
      ],
      "metadata": {
        "colab": {
          "base_uri": "https://localhost:8080/",
          "height": 0
        },
        "id": "Xm35OJQaD8ij",
        "outputId": "ffc431ee-76a4-4b89-8ee5-9291562928e3"
      },
      "execution_count": 3,
      "outputs": [
        {
          "output_type": "stream",
          "name": "stderr",
          "text": [
            "ERROR:wandb.jupyter:Failed to detect the name of this notebook, you can set it manually with the WANDB_NOTEBOOK_NAME environment variable to enable code saving.\n"
          ]
        },
        {
          "output_type": "display_data",
          "data": {
            "text/plain": [
              "<IPython.core.display.Javascript object>"
            ],
            "application/javascript": [
              "\n",
              "        window._wandbApiKey = new Promise((resolve, reject) => {\n",
              "            function loadScript(url) {\n",
              "            return new Promise(function(resolve, reject) {\n",
              "                let newScript = document.createElement(\"script\");\n",
              "                newScript.onerror = reject;\n",
              "                newScript.onload = resolve;\n",
              "                document.body.appendChild(newScript);\n",
              "                newScript.src = url;\n",
              "            });\n",
              "            }\n",
              "            loadScript(\"https://cdn.jsdelivr.net/npm/postmate/build/postmate.min.js\").then(() => {\n",
              "            const iframe = document.createElement('iframe')\n",
              "            iframe.style.cssText = \"width:0;height:0;border:none\"\n",
              "            document.body.appendChild(iframe)\n",
              "            const handshake = new Postmate({\n",
              "                container: iframe,\n",
              "                url: 'https://wandb.ai/authorize'\n",
              "            });\n",
              "            const timeout = setTimeout(() => reject(\"Couldn't auto authenticate\"), 5000)\n",
              "            handshake.then(function(child) {\n",
              "                child.on('authorize', data => {\n",
              "                    clearTimeout(timeout)\n",
              "                    resolve(data)\n",
              "                });\n",
              "            });\n",
              "            })\n",
              "        });\n",
              "    "
            ]
          },
          "metadata": {}
        },
        {
          "output_type": "stream",
          "name": "stderr",
          "text": [
            "\u001b[34m\u001b[1mwandb\u001b[0m: Appending key for api.wandb.ai to your netrc file: /root/.netrc\n"
          ]
        },
        {
          "output_type": "execute_result",
          "data": {
            "text/plain": [
              "True"
            ]
          },
          "metadata": {},
          "execution_count": 3
        }
      ]
    },
    {
      "cell_type": "markdown",
      "metadata": {
        "id": "Xs38RZpiqULH"
      },
      "source": [
        "## Download Preprocessed Dataset"
      ]
    },
    {
      "cell_type": "code",
      "source": [
        "!wget -O /content/Data_Sorted_all.txt https://github.com/CristianMaza/Handwritten-Signature-Verification-sCNN/raw/main/Data_Sorted_all.txt"
      ],
      "metadata": {
        "colab": {
          "base_uri": "https://localhost:8080/"
        },
        "id": "witXKv32L95G",
        "outputId": "70a17280-690c-4228-8dfb-c9c123d4d106"
      },
      "execution_count": 4,
      "outputs": [
        {
          "output_type": "stream",
          "name": "stdout",
          "text": [
            "--2022-12-16 23:55:02--  https://github.com/CristianMaza/Handwritten-Signature-Verification-sCNN/raw/main/Data_Sorted_all.txt\n",
            "Resolving github.com (github.com)... 140.82.114.3\n",
            "Connecting to github.com (github.com)|140.82.114.3|:443... connected.\n",
            "HTTP request sent, awaiting response... 302 Found\n",
            "Location: https://media.githubusercontent.com/media/CristianMaza/Handwritten-Signature-Verification-sCNN/main/Data_Sorted_all.txt [following]\n",
            "--2022-12-16 23:55:02--  https://media.githubusercontent.com/media/CristianMaza/Handwritten-Signature-Verification-sCNN/main/Data_Sorted_all.txt\n",
            "Resolving media.githubusercontent.com (media.githubusercontent.com)... 185.199.108.133, 185.199.109.133, 185.199.110.133, ...\n",
            "Connecting to media.githubusercontent.com (media.githubusercontent.com)|185.199.108.133|:443... connected.\n",
            "HTTP request sent, awaiting response... 200 OK\n",
            "Length: 47622300 (45M) [text/plain]\n",
            "Saving to: ‘/content/Data_Sorted_all.txt’\n",
            "\n",
            "/content/Data_Sorte 100%[===================>]  45.42M   206MB/s    in 0.2s    \n",
            "\n",
            "2022-12-16 23:55:03 (206 MB/s) - ‘/content/Data_Sorted_all.txt’ saved [47622300/47622300]\n",
            "\n"
          ]
        }
      ]
    },
    {
      "cell_type": "code",
      "source": [
        "all_xy = np.loadtxt(\"/content/Data_Sorted_all.txt\", usecols=range((128*64)+1), delimiter=\"\\t\", comments=\"#\", dtype=np.float32)\n",
        "images = all_xy[:, 0:64*128]  \n",
        "images /= 255\n",
        "labels = all_xy[:, 64*128]"
      ],
      "metadata": {
        "id": "-CjyvAbCvPPl"
      },
      "execution_count": 5,
      "outputs": []
    },
    {
      "cell_type": "code",
      "source": [
        "signature_types = 2 # Genuine & Forgery\n",
        "num_users = 55 # Number of users\n",
        "total_samples = 24    # 24 samples per class\n",
        "distribution_rate = 0.7   # 70% for training - 30% for testing\n",
        "\n",
        "total_classes = num_users*signature_types\n",
        "train_dist_rate = round(distribution_rate*total_samples)\n",
        "BATCH_SIZE = 64\n",
        "\n",
        "train_images = images[0:total_classes*train_dist_rate].reshape(-1, 64, 128, 1)\n",
        "test_images = images[total_classes*train_dist_rate:].reshape(-1, 64, 128, 1)\n",
        "train_labels = labels[0:total_classes*train_dist_rate]\n",
        "test_labels = labels[total_classes*train_dist_rate:]\n",
        "\n",
        "# build input pipeline using tf.data\n",
        "train_dataset = tf.data.Dataset.from_tensor_slices((train_images, train_labels))\n",
        "train_dataset = train_dataset.shuffle(buffer_size=1024).batch(BATCH_SIZE)\n",
        "val_dataset = tf.data.Dataset.from_tensor_slices((test_images, test_labels))\n",
        "val_dataset = val_dataset.batch(BATCH_SIZE)"
      ],
      "metadata": {
        "id": "Gb2GQt8yvRAi"
      },
      "execution_count": 6,
      "outputs": []
    },
    {
      "cell_type": "markdown",
      "metadata": {
        "id": "11pFjiY_qULJ"
      },
      "source": [
        "## Define the Model and the Training loop"
      ]
    },
    {
      "cell_type": "code",
      "execution_count": 7,
      "metadata": {
        "id": "Qf_5xfp-qULJ"
      },
      "outputs": [],
      "source": [
        "def make_model():\n",
        "    inputs = keras.Input(shape=(64,128,1), name=\"digits\")\n",
        "    conv1 = keras.layers.Conv2D(40, (7, 7), activation='relu', input_shape=(64, 128, 1))(inputs)\n",
        "    pool1 = keras.layers.MaxPooling2D((2, 2))(conv1)\n",
        "    conv2 = keras.layers.Conv2D(30, (5, 5), activation='relu')(pool1)\n",
        "    pool2 = keras.layers.MaxPooling2D((3, 3))(conv2)\n",
        "    conv3 = keras.layers.Conv2D(20, (3, 3), activation='relu')(pool2)\n",
        "    pool3 = keras.layers.MaxPooling2D((3, 3))(conv3)\n",
        "    flat = keras.layers.Flatten()(pool3)\n",
        "    dense1 = keras.layers.Dense(((total_classes)*2)+2, activation=\"relu\")(flat) # last parameter is for dimensions, \"+2\" for a 2D image\n",
        "    outputs = keras.layers.Dense(total_classes, activation=\"softmax\", name=\"predictions\")(dense1)\n",
        "\n",
        "    return keras.Model(inputs=inputs, outputs=outputs)\n",
        "def train_step(x, y, model, optimizer, loss_fn, train_acc_metric):\n",
        "    with tf.GradientTape() as tape:\n",
        "        logits = model(x, training=True)\n",
        "        loss_value = loss_fn(y, logits)\n",
        "\n",
        "    grads = tape.gradient(loss_value, model.trainable_weights)\n",
        "    optimizer.apply_gradients(zip(grads, model.trainable_weights))\n",
        "\n",
        "    train_acc_metric.update_state(y, logits)\n",
        "\n",
        "    return loss_value\n",
        "def test_step(x, y, model, loss_fn, val_acc_metric):\n",
        "    val_logits = model(x, training=False)\n",
        "    loss_value = loss_fn(y, val_logits)\n",
        "    val_acc_metric.update_state(y, val_logits)\n",
        "\n",
        "    return loss_value"
      ]
    },
    {
      "cell_type": "markdown",
      "metadata": {
        "id": "FKPWKpKNqULL"
      },
      "source": [
        "### Define training loop and add `wandb.log` to it"
      ]
    },
    {
      "cell_type": "code",
      "execution_count": 8,
      "metadata": {
        "id": "yt340rk5qULM"
      },
      "outputs": [],
      "source": [
        "def train(train_dataset, val_dataset,  model, optimizer,\n",
        "          train_acc_metric, val_acc_metric,\n",
        "          epochs=10,  log_step=200, val_log_step=50):\n",
        "  \n",
        "    for epoch in range(epochs):\n",
        "        print(\"\\nStart of epoch %d\" % (epoch,))\n",
        "\n",
        "        train_loss = []   \n",
        "        val_loss = []\n",
        "\n",
        "        # Iterate over the batches of the dataset\n",
        "        for step, (x_batch_train, y_batch_train) in enumerate(train_dataset):\n",
        "            loss_value = train_step(x_batch_train, y_batch_train, \n",
        "                                    model, optimizer, \n",
        "                                    loss_fn, train_acc_metric)\n",
        "            train_loss.append(float(loss_value))\n",
        "\n",
        "        # Run a validation loop at the end of each epoch\n",
        "        for step, (x_batch_val, y_batch_val) in enumerate(val_dataset):\n",
        "            val_loss_value = test_step(x_batch_val, y_batch_val, \n",
        "                                       model, loss_fn, \n",
        "                                       val_acc_metric)\n",
        "            val_loss.append(float(val_loss_value))\n",
        "            \n",
        "        # Display metrics at the end of each epoch\n",
        "        train_acc = train_acc_metric.result()\n",
        "        print(\"Training acc over epoch: %.4f\" % (float(train_acc),))\n",
        "\n",
        "        val_acc = val_acc_metric.result()\n",
        "        print(\"Validation acc: %.4f\" % (float(val_acc),))\n",
        "\n",
        "        # Reset metrics at the end of each epoch\n",
        "        train_acc_metric.reset_states()\n",
        "        val_acc_metric.reset_states()\n",
        "\n",
        "        # ⭐: log metrics using wandb.log\n",
        "        wandb.log({'epochs': epoch,\n",
        "                   'loss': np.mean(train_loss),\n",
        "                   'acc': float(train_acc), \n",
        "                   'val_loss': np.mean(val_loss),\n",
        "                   'val_acc':float(val_acc)})"
      ]
    },
    {
      "cell_type": "markdown",
      "source": [
        "## Define FAR & FRR functions"
      ],
      "metadata": {
        "id": "5Aq5OfOalgP5"
      }
    },
    {
      "cell_type": "markdown",
      "source": [
        "#### FAR (False Acceptance Rate)\n",
        "Cantidad de firmas falsificadas que son aceptadas como genuinas\n",
        "\n",
        "$FAR_{skilled}$ = Considera únicamente firmas falsificadas hábiles"
      ],
      "metadata": {
        "id": "G4euPzhDjjn7"
      }
    },
    {
      "cell_type": "code",
      "source": [
        "def find_far(model, num_users, verbose=0):\n",
        "  far_prob = []\n",
        "  for idx in range(len(test_images)):\n",
        "    if test_labels[idx]>num_users-1: # Taking forgeries only\n",
        "      q = model.predict(np.array([test_images[idx]]), verbose = 0)\n",
        "      far_prob.append(q[0][int((test_labels[idx]-num_users))]*100) \n",
        "  far = []\n",
        "  threshold = []\n",
        "  for i in range(100): #Threshold from 0 to 99%\n",
        "    num = 0\n",
        "    for x in far_prob:\n",
        "      if x>i:\n",
        "        num+=1\n",
        "    far.append(num*(100/len(far_prob))) #percentaje\n",
        "    threshold.append(i)\n",
        "  far = np.array(far)\n",
        "  return far"
      ],
      "metadata": {
        "id": "4R0JTlcVd7v1"
      },
      "execution_count": 9,
      "outputs": []
    },
    {
      "cell_type": "markdown",
      "source": [
        "####FRR (False Rejection Rate)\n",
        "Cantidad de firmas genuinas que se rechazan (no son aceptadas como genuinas por el sistema) "
      ],
      "metadata": {
        "id": "LnCNx7nKjl_0"
      }
    },
    {
      "cell_type": "code",
      "source": [
        "def find_frr(model, num_users, verbose=0):\n",
        "  frr_prob = []\n",
        "  for idx in range(len(test_images)): \n",
        "    if test_labels[idx]<num_users: # Taking genuine signatures only\n",
        "      q = model.predict(np.array([test_images[idx]]),verbose = 0)\n",
        "      id = np.where(q == max(q[0]))\n",
        "      if test_labels[idx] == int(id[1][0]):\n",
        "        frr_prob.append(q[0][int(test_labels[idx])]*100)\n",
        "  frr = []\n",
        "  for i in range(100):\n",
        "    num = 0\n",
        "    for prob in frr_prob:\n",
        "      if prob<i:\n",
        "        num+=1\n",
        "    frr.append(num*(200/len(test_images)))\n",
        "  frr = np.array(frr)\n",
        "  return frr"
      ],
      "metadata": {
        "id": "sWcXWdtb2hrz"
      },
      "execution_count": 10,
      "outputs": []
    },
    {
      "cell_type": "markdown",
      "metadata": {
        "id": "Vs9moMsoqULN"
      },
      "source": [
        "## Run Training"
      ]
    },
    {
      "cell_type": "code",
      "execution_count": 17,
      "metadata": {
        "id": "LI2_e7YWqULO",
        "colab": {
          "base_uri": "https://localhost:8080/",
          "height": 1000
        },
        "outputId": "013aa408-8819-4b2c-b18f-686c4c387b17"
      },
      "outputs": [
        {
          "output_type": "display_data",
          "data": {
            "text/plain": [
              "<IPython.core.display.HTML object>"
            ],
            "text/html": [
              "Tracking run with wandb version 0.13.7"
            ]
          },
          "metadata": {}
        },
        {
          "output_type": "display_data",
          "data": {
            "text/plain": [
              "<IPython.core.display.HTML object>"
            ],
            "text/html": [
              "Run data is saved locally in <code>/content/wandb/run-20221217_000425-162kuh55</code>"
            ]
          },
          "metadata": {}
        },
        {
          "output_type": "display_data",
          "data": {
            "text/plain": [
              "<IPython.core.display.HTML object>"
            ],
            "text/html": [
              "Syncing run <strong><a href=\"https://wandb.ai/cristianmaza/signatures/runs/162kuh55\" target=\"_blank\">sweet-shadow-67</a></strong> to <a href=\"https://wandb.ai/cristianmaza/signatures\" target=\"_blank\">Weights & Biases</a> (<a href=\"https://wandb.me/run\" target=\"_blank\">docs</a>)<br/>"
            ]
          },
          "metadata": {}
        },
        {
          "output_type": "stream",
          "name": "stdout",
          "text": [
            "\n",
            "Start of epoch 0\n",
            "Training acc over epoch: 0.0080\n",
            "Validation acc: 0.0377\n",
            "\n",
            "Start of epoch 1\n",
            "Training acc over epoch: 0.1134\n",
            "Validation acc: 0.2506\n",
            "\n",
            "Start of epoch 2\n",
            "Training acc over epoch: 0.4850\n",
            "Validation acc: 0.6130\n",
            "\n",
            "Start of epoch 3\n",
            "Training acc over epoch: 0.7283\n",
            "Validation acc: 0.6844\n",
            "\n",
            "Start of epoch 4\n",
            "Training acc over epoch: 0.8299\n",
            "Validation acc: 0.6844\n",
            "\n",
            "Start of epoch 5\n",
            "Training acc over epoch: 0.9053\n",
            "Validation acc: 0.7481\n",
            "\n",
            "Start of epoch 6\n",
            "Training acc over epoch: 0.9193\n",
            "Validation acc: 0.7390\n",
            "\n",
            "Start of epoch 7\n",
            "Training acc over epoch: 0.9118\n",
            "Validation acc: 0.7221\n",
            "\n",
            "Start of epoch 8\n",
            "Training acc over epoch: 0.9508\n",
            "Validation acc: 0.7455\n",
            "\n",
            "Start of epoch 9\n",
            "Training acc over epoch: 0.9797\n",
            "Validation acc: 0.7506\n",
            "\n",
            "Start of epoch 10\n",
            "Training acc over epoch: 0.9717\n",
            "Validation acc: 0.7519\n",
            "\n",
            "Start of epoch 11\n",
            "Training acc over epoch: 0.9818\n",
            "Validation acc: 0.7935\n",
            "\n",
            "Start of epoch 12\n",
            "Training acc over epoch: 0.9797\n",
            "Validation acc: 0.7688\n",
            "\n",
            "Start of epoch 13\n",
            "Training acc over epoch: 0.9540\n",
            "Validation acc: 0.7558\n",
            "\n",
            "Start of epoch 14\n",
            "Training acc over epoch: 0.9503\n",
            "Validation acc: 0.7766\n",
            "\n",
            "Start of epoch 15\n",
            "Training acc over epoch: 0.9770\n",
            "Validation acc: 0.7818\n",
            "\n",
            "Start of epoch 16\n",
            "Training acc over epoch: 0.9759\n",
            "Validation acc: 0.7662\n",
            "\n",
            "Start of epoch 17\n",
            "Training acc over epoch: 0.9749\n",
            "Validation acc: 0.7818\n",
            "\n",
            "Start of epoch 18\n",
            "Training acc over epoch: 0.9845\n",
            "Validation acc: 0.7922\n",
            "\n",
            "Start of epoch 19\n",
            "Training acc over epoch: 0.9888\n",
            "Validation acc: 0.7675\n",
            "\n",
            "Calculating FRR...\n",
            "\n",
            "Calculating FAR...\n",
            "\n",
            "Calculating ERR...\n"
          ]
        },
        {
          "output_type": "display_data",
          "data": {
            "text/plain": [
              "<IPython.core.display.HTML object>"
            ],
            "text/html": [
              "Waiting for W&B process to finish... <strong style=\"color:green\">(success).</strong>"
            ]
          },
          "metadata": {}
        },
        {
          "output_type": "display_data",
          "data": {
            "text/plain": [
              "<IPython.core.display.HTML object>"
            ],
            "text/html": [
              "<style>\n",
              "    table.wandb td:nth-child(1) { padding: 0 10px; text-align: left ; width: auto;} td:nth-child(2) {text-align: left ; width: 100%}\n",
              "    .wandb-row { display: flex; flex-direction: row; flex-wrap: wrap; justify-content: flex-start; width: 100% }\n",
              "    .wandb-col { display: flex; flex-direction: column; flex-basis: 100%; flex: 1; padding: 10px; }\n",
              "    </style>\n",
              "<div class=\"wandb-row\"><div class=\"wandb-col\"><h3>Run history:</h3><br/><table class=\"wandb\"><tr><td>EER</td><td>▁</td></tr><tr><td>acc</td><td>▁▂▄▆▇▇█▇████████████</td></tr><tr><td>epochs</td><td>▁▁▂▂▂▃▃▄▄▄▅▅▅▆▆▇▇▇██</td></tr><tr><td>loss</td><td>█▇▄▂▂▁▁▁▁▁▁▁▁▁▁▁▁▁▁▁</td></tr><tr><td>val_acc</td><td>▁▃▆▇▇█▇▇████████████</td></tr><tr><td>val_loss</td><td>█▅▂▁▁▁▁▂▁▂▂▁▁▁▁▁▁▁▁▁</td></tr></table><br/></div><div class=\"wandb-col\"><h3>Run summary:</h3><br/><table class=\"wandb\"><tr><td>EER</td><td>3.8961</td></tr><tr><td>acc</td><td>0.98877</td></tr><tr><td>epochs</td><td>19</td></tr><tr><td>loss</td><td>0.03404</td></tr><tr><td>val_acc</td><td>0.76753</td></tr><tr><td>val_loss</td><td>1.31662</td></tr></table><br/></div></div>"
            ]
          },
          "metadata": {}
        },
        {
          "output_type": "display_data",
          "data": {
            "text/plain": [
              "<IPython.core.display.HTML object>"
            ],
            "text/html": [
              "Synced <strong style=\"color:#cdcd00\">sweet-shadow-67</strong>: <a href=\"https://wandb.ai/cristianmaza/signatures/runs/162kuh55\" target=\"_blank\">https://wandb.ai/cristianmaza/signatures/runs/162kuh55</a><br/>Synced 5 W&B file(s), 3 media file(s), 3 artifact file(s) and 0 other file(s)"
            ]
          },
          "metadata": {}
        },
        {
          "output_type": "display_data",
          "data": {
            "text/plain": [
              "<IPython.core.display.HTML object>"
            ],
            "text/html": [
              "Find logs at: <code>./wandb/run-20221217_000425-162kuh55/logs</code>"
            ]
          },
          "metadata": {}
        }
      ],
      "source": [
        "# initialize wandb with your project name and optionally with configutations.\n",
        "# play around with the config values and see the result on your wandb dashboard.\n",
        "config = {\n",
        "              \"learning_rate\": 0.005,\n",
        "              \"epochs\": 20,\n",
        "              \"batch_size\": 32,\n",
        "              \"log_step\": 20,\n",
        "              \"val_log_step\": 50,\n",
        "              \"architecture\": \"sCNN\",\n",
        "              \"dataset\": f\"CEDAR:{distribution_rate*100}%_{signature_types}types\"\n",
        "           }\n",
        "\n",
        "run = wandb.init(project='signatures', config=config)\n",
        "config = wandb.config\n",
        "\n",
        "# Initialize model.\n",
        "model = make_model()\n",
        "\n",
        "# Instantiate an optimizer to train the model.\n",
        "optimizer = keras.optimizers.Adam(learning_rate=config.learning_rate)\n",
        "# Instantiate a loss function.\n",
        "loss_fn = keras.losses.SparseCategoricalCrossentropy(from_logits=True)\n",
        "\n",
        "# Prepare the metrics.\n",
        "train_acc_metric = keras.metrics.SparseCategoricalAccuracy()\n",
        "val_acc_metric = keras.metrics.SparseCategoricalAccuracy()\n",
        "\n",
        "train(train_dataset,\n",
        "      val_dataset, \n",
        "      model,\n",
        "      optimizer,\n",
        "      train_acc_metric,\n",
        "      val_acc_metric,\n",
        "      epochs=config.epochs, \n",
        "      log_step=config.log_step, \n",
        "      val_log_step=config.val_log_step)\n",
        "print(\"\\nCalculating FRR...\")\n",
        "frr = find_frr(model, num_users)\n",
        "data_frr = [[i, frr[i]] for i in range(len(frr))]\n",
        "print(\"\\nCalculating FAR...\")\n",
        "far = find_far(model, num_users)\n",
        "data_far = [[i, far[i]] for i in range(len(far))]\n",
        "print(\"\\nCalculating ERR...\")\n",
        "EER = 100\n",
        "# calculate the EER\n",
        "idx = np.argwhere(np.diff(np.sign(far - frr))).flatten()[-1]\n",
        "EER = frr[idx]\n",
        "\n",
        "# Create a table with the columns to plot\n",
        "table_frr = wandb.Table(data=data_frr, columns=[\"Threshold (%)\", \"Genuine signatures rejected (%)\"])\n",
        "table_far = wandb.Table(data=data_far, columns=[\"Threshold (%)\", \"Forgeries accepted (%)\"])\n",
        "# Use the table to populate various custom charts\n",
        "line_plot_frr = wandb.plot.line(table_frr, x='Threshold (%)', y='Genuine signatures rejected (%)', title='FRR')\n",
        "line_plot_far = wandb.plot.line(table_far, x='Threshold (%)', y='Forgeries accepted (%)', title='FAR')\n",
        "line_series = wandb.plot.line_series(xs=[i for i in range(len(frr))], ys=[frr, far], keys=[\"FRR\", \"FAR\"], title='EER', xname=\"Threshold (%)\")\n",
        "\n",
        "# Log custom tables, which will show up in customizable charts in the UI\n",
        "wandb.log({'line_1': line_plot_frr,\n",
        "           'line_2': line_plot_far,\n",
        "           'line_3': line_series,\n",
        "           'EER': EER})\n",
        "\n",
        "run.finish()  # In Jupyter/Colab, let us know you're finished!"
      ]
    },
    {
      "cell_type": "markdown",
      "source": [
        "## Evaluate the model"
      ],
      "metadata": {
        "id": "9S4zX7-2CBw5"
      }
    },
    {
      "cell_type": "code",
      "source": [
        "# Grab sample from  set.\n",
        "user_input = 51 # what user you wanna test?\n",
        "isGenuine = False # wanna use a gennuine or forgery sample?\n",
        "\n",
        "useID = True # Use ID?\n",
        "# True = use User ID to verify if signature is genuine or forgery\n",
        "# False = Identify user and verify if signature is genuine or forgery"
      ],
      "metadata": {
        "id": "DRAOOkQDCD9w"
      },
      "execution_count": 53,
      "outputs": []
    },
    {
      "cell_type": "code",
      "source": [
        "\n",
        "if isGenuine:\n",
        "  num = (51-1)*2\n",
        "else:\n",
        "  num = (51-1)*2+1\n",
        "\n",
        "test_image = test_images[num]\n",
        "if test_labels[num]<num_users:\n",
        "  print(f\"Input: User #{int(test_labels[num])+1} - Genuine\")\n",
        "else:\n",
        "  print(f\"Input: User #{int((test_labels[num]-num_users))+1} - Forgery\")\n",
        "q = model.predict(np.array([test_image]),verbose = 0)\n",
        "id = q[0][user_input-1]\n",
        "id = np.where(q == max(q[0]))\n",
        "\n",
        "# Display image and model prediction.\n",
        "plt.imshow(np.reshape(test_image, [64, 128]), cmap='gray_r')\n",
        "plt.show()\n",
        "\n",
        "if useID:\n",
        "  if q[0][user_input-1] > q[0][user_input-1+num_users]:\n",
        "    print(f\"Output: User # {user_input} - Genuine\")\n",
        "    print(f\"Accuracy: {round(q[0][user_input-1]*100, 2)}%\")\n",
        "  else:\n",
        "    print(f\"Output: User # {user_input} - Forgery\")\n",
        "    print(f\"Accuracy: {round(q[0][user_input-1+num_users]*100, 2)}%\")\n",
        "else:\n",
        "  user_pred = id[1][0]\n",
        "  isForgery = False\n",
        "  if (user_pred)>=num_users:\n",
        "    isForgery = True\n",
        "    user_pred = user_pred-num_users\n",
        "  print(f\"Output: \\nUser: #{user_pred+1}\")\n",
        "  if max(q[0])>=0.67:\n",
        "    if isForgery:\n",
        "      print(f\"Signature: Forgery\")\n",
        "    else:\n",
        "      print(f\"Signature: Genuine\")\n",
        "  else:\n",
        "    print(f\"Signature: Forgery\")\n",
        "  print(f\"Accuracy: {round(max(q[0])*100, 2)}%\")"
      ],
      "metadata": {
        "colab": {
          "base_uri": "https://localhost:8080/",
          "height": 309
        },
        "id": "CarZ_b9lQoG2",
        "outputId": "9c65df99-2f21-45f1-ebd4-83be271ce5e2"
      },
      "execution_count": 56,
      "outputs": [
        {
          "output_type": "stream",
          "name": "stdout",
          "text": [
            "Input: User #51 - Forgery\n"
          ]
        },
        {
          "output_type": "display_data",
          "data": {
            "text/plain": [
              "<Figure size 432x288 with 1 Axes>"
            ],
            "image/png": "[encoded data removed]"
          },
          "metadata": {
            "needs_background": "light"
          }
        },
        {
          "output_type": "stream",
          "name": "stdout",
          "text": [
            "Output: \n",
            "User: #51\n",
            "Signature: Forgery\n",
            "Accuracy: 98.86%\n"
          ]
        }
      ]
    },
    {
      "cell_type": "markdown",
      "source": [
        "## Save/Load model to GDrive"
      ],
      "metadata": {
        "id": "S-BZHFRtFKKL"
      }
    },
    {
      "cell_type": "code",
      "source": [
        "# Sign in\n",
        "from google.colab import drive\n",
        "drive.flush_and_unmount()\n",
        "drive.mount(\"/content/drive\")\n",
        "!ln -s /content/drive/My\\ Drive/ /MyGDrive"
      ],
      "metadata": {
        "colab": {
          "base_uri": "https://localhost:8080/"
        },
        "id": "r-MVvKRiIXop",
        "outputId": "542833ce-5759-41e8-a960-40dbc5b148da"
      },
      "execution_count": 13,
      "outputs": [
        {
          "output_type": "stream",
          "name": "stdout",
          "text": [
            "Drive not mounted, so nothing to flush and unmount.\n",
            "Mounted at /content/drive\n"
          ]
        }
      ]
    },
    {
      "cell_type": "code",
      "source": [
        "# Eval model first\n",
        "model.compile(optimizer, loss_fn, train_acc_metric)\n",
        "test_loss, test_acc = model.evaluate(test_images,  test_labels, verbose=2)\n",
        "print('Model, accuracy: {:5.2f}%'.format(100 * test_acc))"
      ],
      "metadata": {
        "colab": {
          "base_uri": "https://localhost:8080/"
        },
        "id": "n-kcXkTjIP4S",
        "outputId": "f7fa0781-f0b0-4213-80c0-cd351a364494"
      },
      "execution_count": 12,
      "outputs": [
        {
          "output_type": "stream",
          "name": "stdout",
          "text": [
            "25/25 - 0s - loss: 1.7582 - sparse_categorical_accuracy: 0.7844 - 410ms/epoch - 16ms/step\n",
            "Model, accuracy: 78.44%\n"
          ]
        }
      ]
    },
    {
      "cell_type": "code",
      "source": [
        "# Save model\n",
        "# The '.h5' extension indicates that the model should be saved to HDF5.\n",
        "model.save('/MyGDrive/Models/model.h5')"
      ],
      "metadata": {
        "id": "bVfdwAFc0LZ8"
      },
      "execution_count": 14,
      "outputs": []
    },
    {
      "cell_type": "code",
      "source": [
        "# Load model, including its weights and the optimizer\n",
        "model = tf.keras.models.load_model('/MyGDrive/Models/model.h5')\n",
        "# Show the model architecture\n",
        "model.summary()\n",
        "# Show the model metrics\n",
        "loss, acc = model.evaluate(test_images, test_labels, verbose=2)\n",
        "print('Restored model, accuracy: {:5.2f}%'.format(100 * acc))"
      ],
      "metadata": {
        "colab": {
          "base_uri": "https://localhost:8080/"
        },
        "id": "HTNyBLGb1Uun",
        "outputId": "1dab0c4a-7cb4-431f-ab03-e72ba7319670"
      },
      "execution_count": 15,
      "outputs": [
        {
          "output_type": "stream",
          "name": "stdout",
          "text": [
            "Model: \"model\"\n",
            "_________________________________________________________________\n",
            " Layer (type)                Output Shape              Param #   \n",
            "=================================================================\n",
            " digits (InputLayer)         [(None, 64, 128, 1)]      0         \n",
            "                                                                 \n",
            " conv2d (Conv2D)             (None, 58, 122, 40)       2000      \n",
            "                                                                 \n",
            " max_pooling2d (MaxPooling2D  (None, 29, 61, 40)       0         \n",
            " )                                                               \n",
            "                                                                 \n",
            " conv2d_1 (Conv2D)           (None, 25, 57, 30)        30030     \n",
            "                                                                 \n",
            " max_pooling2d_1 (MaxPooling  (None, 8, 19, 30)        0         \n",
            " 2D)                                                             \n",
            "                                                                 \n",
            " conv2d_2 (Conv2D)           (None, 6, 17, 20)         5420      \n",
            "                                                                 \n",
            " max_pooling2d_2 (MaxPooling  (None, 2, 5, 20)         0         \n",
            " 2D)                                                             \n",
            "                                                                 \n",
            " flatten (Flatten)           (None, 200)               0         \n",
            "                                                                 \n",
            " dense (Dense)               (None, 222)               44622     \n",
            "                                                                 \n",
            " predictions (Dense)         (None, 110)               24530     \n",
            "                                                                 \n",
            "=================================================================\n",
            "Total params: 106,602\n",
            "Trainable params: 106,602\n",
            "Non-trainable params: 0\n",
            "_________________________________________________________________\n",
            "25/25 - 0s - loss: 1.7582 - sparse_categorical_accuracy: 0.7844 - 282ms/epoch - 11ms/step\n",
            "Restored model, accuracy: 78.44%\n"
          ]
        }
      ]
    },
    {
      "cell_type": "markdown",
      "source": [
        "## Show FAR, FRR y EER (Manual)\n"
      ],
      "metadata": {
        "id": "eIcaKrucd9VE"
      }
    },
    {
      "cell_type": "markdown",
      "source": [
        "### FAR"
      ],
      "metadata": {
        "id": "VaJUF86XF8W2"
      }
    },
    {
      "cell_type": "code",
      "source": [
        "far = find_far(model, num_users)\n",
        "print('FAR: ',far)\n",
        "plt.plot(far,'--r')\n",
        "plt.xlabel('Threshold (%)')\n",
        "plt.ylabel('Forgeries accepted (%)')\n",
        "plt.title('FAR')\n",
        "plt.axis([0, 100, 0, 100])\n",
        "plt.show()"
      ],
      "metadata": {
        "colab": {
          "base_uri": "https://localhost:8080/",
          "height": 658
        },
        "id": "sz-smETFj1YW",
        "outputId": "80a210c1-67ab-4de7-d7a8-987d3965415a"
      },
      "execution_count": 12,
      "outputs": [
        {
          "output_type": "stream",
          "name": "stdout",
          "text": [
            "FAR:  [100.          15.32467532  12.98701299  11.68831169  10.90909091\n",
            "  10.38961039   9.09090909   9.09090909   8.83116883   8.83116883\n",
            "   8.57142857   8.05194805   7.53246753   7.27272727   7.27272727\n",
            "   7.27272727   7.27272727   7.27272727   7.27272727   7.01298701\n",
            "   7.01298701   6.49350649   6.49350649   6.23376623   5.71428571\n",
            "   5.71428571   5.71428571   5.71428571   5.71428571   5.71428571\n",
            "   5.71428571   5.71428571   5.71428571   5.71428571   5.71428571\n",
            "   5.71428571   5.71428571   5.45454545   5.45454545   5.45454545\n",
            "   5.45454545   5.45454545   5.45454545   5.19480519   4.93506494\n",
            "   4.93506494   4.67532468   4.67532468   4.67532468   4.41558442\n",
            "   4.41558442   4.15584416   4.15584416   4.15584416   4.15584416\n",
            "   4.15584416   4.15584416   4.15584416   4.15584416   4.15584416\n",
            "   4.15584416   4.15584416   3.8961039    3.8961039    3.8961039\n",
            "   3.8961039    3.8961039    3.8961039    3.8961039    3.8961039\n",
            "   3.8961039    3.8961039    3.8961039    3.8961039    3.63636364\n",
            "   3.63636364   3.37662338   3.11688312   3.11688312   3.11688312\n",
            "   3.11688312   3.11688312   3.11688312   3.11688312   3.11688312\n",
            "   3.11688312   3.11688312   2.5974026    2.5974026    2.33766234\n",
            "   2.33766234   2.33766234   2.33766234   2.33766234   2.33766234\n",
            "   2.33766234   2.07792208   2.07792208   2.07792208   1.55844156]\n"
          ]
        },
        {
          "output_type": "display_data",
          "data": {
            "text/plain": [
              "<Figure size 432x288 with 1 Axes>"
            ],
            "image/png": "[encoded data removed]"
          },
          "metadata": {
            "needs_background": "light"
          }
        }
      ]
    },
    {
      "cell_type": "markdown",
      "source": [
        "### FRR"
      ],
      "metadata": {
        "id": "HG59ndojF921"
      }
    },
    {
      "cell_type": "code",
      "source": [
        "frr = find_frr(model, num_users)\n",
        "print('FRR: ',frr)\n",
        "plt.plot(frr,'--b')\n",
        "plt.xlabel('Threshold (%)')\n",
        "plt.ylabel('Genuine signatures rejected (%)')\n",
        "plt.title('FRR')\n",
        "plt.axis([0, 100, 0, 100])\n",
        "plt.show()"
      ],
      "metadata": {
        "colab": {
          "base_uri": "https://localhost:8080/",
          "height": 604
        },
        "id": "sBh01oOhka5j",
        "outputId": "6284158b-ca7e-4819-d370-a3f1634f7c3b"
      },
      "execution_count": 76,
      "outputs": [
        {
          "output_type": "stream",
          "name": "stdout",
          "text": [
            "FRR:  [ 0.          0.          0.          0.          0.          0.\n",
            "  0.          0.          0.          0.          0.          0.\n",
            "  0.          0.          0.          0.          0.          0.\n",
            "  0.          0.          0.          0.          0.          0.\n",
            "  0.          0.          0.          0.          0.          0.\n",
            "  0.          0.          0.          0.          0.          0.\n",
            "  0.          0.          0.          0.          0.          0.\n",
            "  0.          0.          0.          0.          0.          0.\n",
            "  0.          0.          0.          0.77922078  1.03896104  1.03896104\n",
            "  1.03896104  1.2987013   1.2987013   1.55844156  1.55844156  1.55844156\n",
            "  1.55844156  1.55844156  1.55844156  1.55844156  1.81818182  2.07792208\n",
            "  2.07792208  2.07792208  2.07792208  2.07792208  2.07792208  2.33766234\n",
            "  3.11688312  3.11688312  3.37662338  3.63636364  3.8961039   4.15584416\n",
            "  4.15584416  4.15584416  4.15584416  4.15584416  4.15584416  5.19480519\n",
            "  5.19480519  5.71428571  5.71428571  6.75324675  7.01298701  7.01298701\n",
            "  7.53246753  7.79220779  8.05194805  8.31168831  8.83116883  9.35064935\n",
            " 10.12987013 11.42857143 12.98701299 16.62337662]\n"
          ]
        },
        {
          "output_type": "display_data",
          "data": {
            "text/plain": [
              "<Figure size 432x288 with 1 Axes>"
            ],
            "image/png": "[encoded data removed]"
          },
          "metadata": {
            "needs_background": "light"
          }
        }
      ]
    },
    {
      "cell_type": "markdown",
      "source": [
        "###EER"
      ],
      "metadata": {
        "id": "3UtIj1sLqLVo"
      }
    },
    {
      "cell_type": "code",
      "source": [
        "EER = 0\n",
        "threshold = [idx for idx in range(100)]\n",
        "threshold = np.array(threshold)\n",
        "# calculate the EER\n",
        "try:\n",
        "  idx = int(np.argwhere(np.diff(np.sign(far - frr))).flatten())\n",
        "except:\n",
        "  #idx = round(np.mean(np.argwhere(np.diff(np.sign(far - frr))).flatten()))\n",
        "  idx = np.argwhere(np.diff(np.sign(far - frr))).flatten()[-1]\n",
        "EER = (far[idx]+frr[idx])/2\n",
        "Threshold = threshold[idx]"
      ],
      "metadata": {
        "id": "f35DaEdat_fv"
      },
      "execution_count": 13,
      "outputs": []
    },
    {
      "cell_type": "code",
      "source": [
        "fig, ax = plt.subplots()\n",
        "ax.plot(threshold, far, 'r--', label='FAR')\n",
        "ax.plot(threshold, frr, 'g--', label='FRR')\n",
        "plt.xlabel('Threshold (%)')\n",
        "plt.ylabel('EER (%)')\n",
        "plt.plot(Threshold, EER,'ro', label='EER') \n",
        "ax.text(Threshold, EER+6, f\"EER=({Threshold}; {round(EER, 2)})\", ha=\"center\")\n",
        "\n",
        "legend = ax.legend(loc='upper center', fontsize='x-large')\n",
        "plt.show()"
      ],
      "metadata": {
        "colab": {
          "base_uri": "https://localhost:8080/",
          "height": 279
        },
        "id": "fAd0zLAW2qas",
        "outputId": "0f0d5bbb-8b60-47eb-de7a-ef840f18af8b"
      },
      "execution_count": 14,
      "outputs": [
        {
          "output_type": "display_data",
          "data": {
            "text/plain": [
              "<Figure size 432x288 with 1 Axes>"
            ],
            "image/png": "[encoded data removed]"
          },
          "metadata": {
            "needs_background": "light"
          }
        }
      ]
    },
    {
      "cell_type": "code",
      "source": [],
      "metadata": {
        "id": "gPmLqz2sXtEH"
      },
      "execution_count": null,
      "outputs": []
    }
  ],
  "metadata": {
    "colab": {
      "provenance": [],
      "collapsed_sections": [
        "M8C5alWYEyBP",
        "Xs38RZpiqULH",
        "11pFjiY_qULJ",
        "9S4zX7-2CBw5",
        "S-BZHFRtFKKL"
      ]
    },
    "kernelspec": {
      "display_name": "Python 3 (ipykernel)",
      "language": "python",
      "name": "python3"
    },
    "gpuClass": "standard",
    "accelerator": "GPU"
  },
  "nbformat": 4,
  "nbformat_minor": 0
}